{
  "cells": [
    {
      "cell_type": "markdown",
      "metadata": {
        "id": "PkLJEL1noree"
      },
      "source": [
        "### Neural Networks"
      ]
    },
    {
      "cell_type": "markdown",
      "metadata": {
        "id": "8r_9D1p1pgYi"
      },
      "source": [
        "### Predict kd/ki and values with categories"
      ]
    },
    {
      "cell_type": "code",
      "execution_count": 9,
      "metadata": {
        "id": "QwVyrpESo88o"
      },
      "outputs": [],
      "source": [
        "import gzip\n",
        "import pandas as pd\n",
        "import matplotlib.pyplot as plt\n",
        "from sklearn.model_selection import train_test_split\n",
        "from sklearn.preprocessing import LabelEncoder\n",
        "from sklearn.model_selection import KFold\n",
        "from keras.models import Sequential\n",
        "from keras.layers import Dense\n",
        "from sklearn.metrics import accuracy_score\n",
        "import numpy as np\n",
        "import warnings\n",
        "\n"
      ]
    },
    {
      "cell_type": "code",
      "execution_count": 21,
      "metadata": {
        "colab": {
          "base_uri": "https://localhost:8080/"
        },
        "id": "PXRTKVN3-3YY",
        "outputId": "e695489c-2727-41e9-96da-e15ce172a578"
      },
      "outputs": [
        {
          "name": "stdout",
          "output_type": "stream",
          "text": [
            "[1 2 3 0]\n"
          ]
        }
      ],
      "source": [
        "warnings.filterwarnings(\"ignore\")\n",
        "\n",
        "data = pd.read_csv(\"class_values.csv\", delimiter=',') # don't forget to change the name of the file and the variables according to the used file\n",
        "Y = data[['value']]\n",
        "X = data[['len_zip']]\n",
        "print(Y['value'].unique())\n",
        "\n"
      ]
    },
    {
      "cell_type": "code",
      "execution_count": 10,
      "metadata": {
        "colab": {
          "base_uri": "https://localhost:8080/"
        },
        "id": "ghcQcwBk_c9a",
        "outputId": "52c87377-d249-4646-8823-98b37bdccff2"
      },
      "outputs": [
        {
          "name": "stdout",
          "output_type": "stream",
          "text": [
            "Fold number 1, accuracy score: 0.5228346586227417\n",
            "Fold number 2, accuracy score: 0.5748031735420227\n",
            "Fold number 3, accuracy score: 0.5480315089225769\n",
            "Fold number 4, accuracy score: 0.5133858323097229\n",
            "Fold number 5, accuracy score: 0.5511810779571533\n",
            "Fold number 6, accuracy score: 0.5716535449028015\n",
            "Fold number 7, accuracy score: 0.5763779282569885\n",
            "Fold number 8, accuracy score: 0.5149606466293335\n",
            "Fold number 9, accuracy score: 0.5149606466293335\n",
            "Fold number 10, accuracy score: 0.5552050471305847\n",
            "10-fold CV mean of scores: 0.544339406490326\n",
            "\n",
            " with a standard deviation of 0.0245\n"
          ]
        }
      ],
      "source": [
        "## for kd/ki\n",
        "\n",
        "num_folds = 10\n",
        "nb_classe = len(Y['kd/ki'].unique())\n",
        "\n",
        "kfold = KFold(n_splits=num_folds, shuffle=True, random_state=42)\n",
        "f_nb = 1\n",
        "scores_cv = []\n",
        "\n",
        "model_nn = Sequential()\n",
        "model_nn.add(Dense(32, input_dim=1, activation='relu'))\n",
        "model_nn.add(Dense(32, activation='relu'))\n",
        "model_nn.add(Dense(32, activation='relu'))\n",
        "model_nn.add(Dense(nb_classe, activation='softmax'))\n",
        "model_nn.compile(optimizer='adam', loss='sparse_categorical_crossentropy', metrics=['accuracy'])\n",
        "\n",
        "for train, test in kfold.split(X, Y):\n",
        "    X_train, X_test = X.iloc[train], X.iloc[test]\n",
        "    y_train, y_test = Y.iloc[train], Y.iloc[test]\n",
        "\n",
        "    model_nn.fit(X_train, y_train, epochs=50, verbose=0)\n",
        "\n",
        "    score = model_nn.evaluate(X_test, y_test, verbose=0)\n",
        "    print(f\"Fold number {f_nb}, accuracy score: {score[1]}\")\n",
        "\n",
        "    scores_cv.append(score[1])\n",
        "    f_nb += 1\n",
        "\n",
        "print('10-fold CV mean of scores:', np.mean(scores_cv))\n",
        "print(\"\\n with a standard deviation of %0.4f\" % (np.array(scores_cv).std()))\n",
        "\n",
        "\n"
      ]
    },
    {
      "cell_type": "code",
      "execution_count": 22,
      "metadata": {
        "colab": {
          "base_uri": "https://localhost:8080/"
        },
        "id": "yLVafCtgKCyj",
        "outputId": "029da285-c136-4a49-aec7-0879819962a1"
      },
      "outputs": [
        {
          "name": "stdout",
          "output_type": "stream",
          "text": [
            "Fold number 1, accuracy score: 0.8204724192619324\n",
            "Fold number 2, accuracy score: 0.8314960598945618\n",
            "Fold number 3, accuracy score: 0.85196852684021\n",
            "Fold number 4, accuracy score: 0.869291365146637\n",
            "Fold number 5, accuracy score: 0.8551180958747864\n",
            "Fold number 6, accuracy score: 0.8110235929489136\n",
            "Fold number 7, accuracy score: 0.8299212455749512\n",
            "Fold number 8, accuracy score: 0.8425197005271912\n",
            "Fold number 9, accuracy score: 0.8440945148468018\n",
            "Fold number 10, accuracy score: 0.85173499584198\n",
            "10-fold CV mean of scores: 0.8407640516757965\n",
            "\n",
            " with a standard deviation of 0.0167\n"
          ]
        }
      ],
      "source": [
        "## For Values ###\n",
        "\n",
        "num_folds = 10\n",
        "nb_classe = len(Y['value'].unique())\n",
        "\n",
        "kfold = KFold(n_splits=num_folds, shuffle=True, random_state=42)\n",
        "f_nb = 1\n",
        "scores_cv = []\n",
        "\n",
        "model_nn = Sequential()\n",
        "model_nn.add(Dense(32, input_dim=1, activation='relu'))\n",
        "model_nn.add(Dense(32, activation='relu'))\n",
        "model_nn.add(Dense(32, activation='relu'))\n",
        "model_nn.add(Dense(nb_classe, activation='softmax'))\n",
        "model_nn.compile(optimizer='adam', loss='sparse_categorical_crossentropy', metrics=['accuracy'])\n",
        "\n",
        "for train, test in kfold.split(X, Y):\n",
        "    X_train, X_test = X.iloc[train], X.iloc[test]\n",
        "    y_train, y_test = Y.iloc[train], Y.iloc[test]\n",
        "\n",
        "    model_nn.fit(X_train, y_train, epochs=50, verbose=0)\n",
        "\n",
        "    score = model_nn.evaluate(X_test, y_test, verbose=0)\n",
        "    print(f\"Fold number {f_nb}, accuracy score: {score[1]}\")\n",
        "\n",
        "    scores_cv.append(score[1])\n",
        "    f_nb += 1\n",
        "\n",
        "print('10-fold CV mean of scores:', np.mean(scores_cv))\n",
        "print(\"\\n with a standard deviation of %0.4f\" % (np.array(scores_cv).std()))\n"
      ]
    },
    {
      "cell_type": "markdown",
      "metadata": {
        "id": "oBZ-57Fupl60"
      },
      "source": [
        "### Predict \"values\"  without categories"
      ]
    },
    {
      "cell_type": "code",
      "execution_count": null,
      "metadata": {
        "id": "fABHQVtGqxmG"
      },
      "outputs": [],
      "source": [
        "data = pd.read_csv(\"LP_PDBBind.csv\", delimiter=',')\n",
        "\n",
        "data_kd = data[data['kd/ki'].str.contains('Kd', case=False, na=False)] # we choose columns with only Kd\n",
        "\n",
        "Y = data_kd[['value']]\n",
        "X = data_kd[['smiles','seq']]\n",
        "\n",
        "X['smiles'] = X['smiles'].astype(str)\n",
        "X['smiles+seq'] = X['smiles'] + X['seq']\n",
        "\n",
        "# create the concataneted columns\n",
        "X_concat = X[['smiles+seq']]\n",
        "X_concat['smiles+seq'] = X_concat['smiles+seq'].apply(lambda x:len(gzip.compress(x.encode())))\n",
        "\n",
        "X_train, X_test, y_train, y_test =train_test_split(X_concat, Y, test_size=0.3) # 70% training and 30% test\n"
      ]
    },
    {
      "cell_type": "code",
      "execution_count": null,
      "metadata": {
        "colab": {
          "base_uri": "https://localhost:8080/"
        },
        "id": "cL5_xjL3pvCd",
        "outputId": "e65dfa53-33f1-45a5-9783-213ac6bc0a5c"
      },
      "outputs": [
        {
          "name": "stdout",
          "output_type": "stream",
          "text": [
            "Epoch 1/50\n",
            "154/154 [==============================] - 1s 2ms/step - loss: 9.0051 - mae: 2.2831\n",
            "Epoch 2/50\n",
            "154/154 [==============================] - 0s 2ms/step - loss: 7.7623 - mae: 2.1387\n",
            "Epoch 3/50\n",
            "154/154 [==============================] - 0s 2ms/step - loss: 6.9758 - mae: 2.0099\n",
            "Epoch 4/50\n",
            "154/154 [==============================] - 0s 2ms/step - loss: 5.6806 - mae: 1.8296\n",
            "Epoch 5/50\n",
            "154/154 [==============================] - 0s 2ms/step - loss: 5.1609 - mae: 1.7346\n",
            "Epoch 6/50\n",
            "154/154 [==============================] - 0s 2ms/step - loss: 4.8605 - mae: 1.6999\n",
            "Epoch 7/50\n",
            "154/154 [==============================] - 0s 2ms/step - loss: 4.4957 - mae: 1.6454\n",
            "Epoch 8/50\n",
            "154/154 [==============================] - 0s 2ms/step - loss: 4.0429 - mae: 1.5547\n",
            "Epoch 9/50\n",
            "154/154 [==============================] - 0s 2ms/step - loss: 4.0297 - mae: 1.5585\n",
            "Epoch 10/50\n",
            "154/154 [==============================] - 0s 2ms/step - loss: 3.5934 - mae: 1.4865\n",
            "Epoch 11/50\n",
            "154/154 [==============================] - 0s 2ms/step - loss: 3.4625 - mae: 1.4594\n",
            "Epoch 12/50\n",
            "154/154 [==============================] - 0s 2ms/step - loss: 3.3297 - mae: 1.4387\n",
            "Epoch 13/50\n",
            "154/154 [==============================] - 0s 2ms/step - loss: 3.3911 - mae: 1.4505\n",
            "Epoch 14/50\n",
            "154/154 [==============================] - 0s 2ms/step - loss: 3.4262 - mae: 1.4538\n",
            "Epoch 15/50\n",
            "154/154 [==============================] - 0s 2ms/step - loss: 3.3705 - mae: 1.4511\n",
            "Epoch 16/50\n",
            "154/154 [==============================] - 1s 6ms/step - loss: 3.2584 - mae: 1.4241\n",
            "Epoch 17/50\n",
            "154/154 [==============================] - 0s 2ms/step - loss: 3.1991 - mae: 1.4153\n",
            "Epoch 18/50\n",
            "154/154 [==============================] - 0s 2ms/step - loss: 3.3153 - mae: 1.4407\n",
            "Epoch 19/50\n",
            "154/154 [==============================] - 0s 2ms/step - loss: 3.3889 - mae: 1.4565\n",
            "Epoch 20/50\n",
            "154/154 [==============================] - 0s 2ms/step - loss: 3.2937 - mae: 1.4400\n",
            "Epoch 21/50\n",
            "154/154 [==============================] - 0s 2ms/step - loss: 3.3154 - mae: 1.4438\n",
            "Epoch 22/50\n",
            "154/154 [==============================] - 0s 2ms/step - loss: 3.3403 - mae: 1.4427\n",
            "Epoch 23/50\n",
            "154/154 [==============================] - 0s 2ms/step - loss: 3.2550 - mae: 1.4248\n",
            "Epoch 24/50\n",
            "154/154 [==============================] - 0s 3ms/step - loss: 3.3272 - mae: 1.4432\n",
            "Epoch 25/50\n",
            "154/154 [==============================] - 0s 3ms/step - loss: 3.3189 - mae: 1.4363\n",
            "Epoch 26/50\n",
            "154/154 [==============================] - 0s 3ms/step - loss: 3.2539 - mae: 1.4256\n",
            "Epoch 27/50\n",
            "154/154 [==============================] - 1s 7ms/step - loss: 3.2882 - mae: 1.4326\n",
            "Epoch 28/50\n",
            "154/154 [==============================] - 1s 5ms/step - loss: 3.2466 - mae: 1.4244\n",
            "Epoch 29/50\n",
            "154/154 [==============================] - 0s 2ms/step - loss: 3.3076 - mae: 1.4332\n",
            "Epoch 30/50\n",
            "154/154 [==============================] - 0s 2ms/step - loss: 3.2636 - mae: 1.4259\n",
            "Epoch 31/50\n",
            "154/154 [==============================] - 0s 2ms/step - loss: 3.1764 - mae: 1.4093\n",
            "Epoch 32/50\n",
            "154/154 [==============================] - 0s 2ms/step - loss: 3.3490 - mae: 1.4472\n",
            "Epoch 33/50\n",
            "154/154 [==============================] - 0s 2ms/step - loss: 3.1751 - mae: 1.4120\n",
            "Epoch 34/50\n",
            "154/154 [==============================] - 0s 2ms/step - loss: 3.2313 - mae: 1.4220\n",
            "Epoch 35/50\n",
            "154/154 [==============================] - 0s 2ms/step - loss: 3.2187 - mae: 1.4200\n",
            "Epoch 36/50\n",
            "154/154 [==============================] - 0s 2ms/step - loss: 3.3696 - mae: 1.4536\n",
            "Epoch 37/50\n",
            "154/154 [==============================] - 0s 2ms/step - loss: 3.2697 - mae: 1.4288\n",
            "Epoch 38/50\n",
            "154/154 [==============================] - 0s 2ms/step - loss: 3.2189 - mae: 1.4191\n",
            "Epoch 39/50\n",
            "154/154 [==============================] - 0s 2ms/step - loss: 3.2199 - mae: 1.4161\n",
            "Epoch 40/50\n",
            "154/154 [==============================] - 0s 2ms/step - loss: 3.3299 - mae: 1.4422\n",
            "Epoch 41/50\n",
            "154/154 [==============================] - 0s 2ms/step - loss: 3.1801 - mae: 1.4145\n",
            "Epoch 42/50\n",
            "154/154 [==============================] - 0s 2ms/step - loss: 3.2337 - mae: 1.4214\n",
            "Epoch 43/50\n",
            "154/154 [==============================] - 0s 2ms/step - loss: 3.1961 - mae: 1.4136\n",
            "Epoch 44/50\n",
            "154/154 [==============================] - 0s 2ms/step - loss: 3.1990 - mae: 1.4152\n",
            "Epoch 45/50\n",
            "154/154 [==============================] - 0s 2ms/step - loss: 3.1765 - mae: 1.4113\n",
            "Epoch 46/50\n",
            "154/154 [==============================] - 0s 2ms/step - loss: 3.1765 - mae: 1.4121\n",
            "Epoch 47/50\n",
            "154/154 [==============================] - 0s 2ms/step - loss: 3.1925 - mae: 1.4151\n",
            "Epoch 48/50\n",
            "154/154 [==============================] - 0s 2ms/step - loss: 3.1902 - mae: 1.4128\n",
            "Epoch 49/50\n",
            "154/154 [==============================] - 0s 2ms/step - loss: 3.1518 - mae: 1.4055\n",
            "Epoch 50/50\n",
            "154/154 [==============================] - 0s 2ms/step - loss: 3.1248 - mae: 1.3988\n",
            "66/66 [==============================] - 0s 1ms/step\n"
          ]
        }
      ],
      "source": [
        "model_v = Sequential()\n",
        "model_v.add(Dense(32, input_dim=1, activation='relu'))\n",
        "model_v.add(Dense(32, activation='relu'))\n",
        "model_v.add(Dense(32, activation='relu'))\n",
        "model_v.add(Dense(1, activation='linear'))\n",
        "model_v.compile(optimizer='adam', loss='mean_squared_error', metrics=['mae'])\n",
        "model_v.fit(X_train, y_train, epochs=50)\n",
        "\n",
        "y_pred = model_v.predict(X_test)\n",
        "\n"
      ]
    },
    {
      "cell_type": "code",
      "execution_count": null,
      "metadata": {
        "colab": {
          "base_uri": "https://localhost:8080/",
          "height": 472
        },
        "id": "_rr5RUfvqCsw",
        "outputId": "70e9c047-3bf8-4bca-f75f-8a85fc766a4c"
      },
      "outputs": [
        {
          "data": {
            "image/png": "[encoded data removed]",
            "text/plain": [
              "<Figure size 640x480 with 1 Axes>"
            ]
          },
          "metadata": {},
          "output_type": "display_data"
        }
      ],
      "source": [
        "import matplotlib.pyplot as plt\n",
        "\n",
        "\n",
        "plt.scatter(y_test, y_pred, alpha=0.5)\n",
        "plt.plot(y_test,y_test)\n",
        "plt.title('True Values and Predictions of the Model')\n",
        "plt.xlabel('True Values')\n",
        "plt.ylabel('Predictions')\n",
        "plt.show()"
      ]
    }
  ],
  "metadata": {
    "colab": {
      "provenance": []
    },
    "kernelspec": {
      "display_name": "Python 3",
      "name": "python3"
    },
    "language_info": {
      "name": "python"
    }
  },
  "nbformat": 4,
  "nbformat_minor": 0
}
